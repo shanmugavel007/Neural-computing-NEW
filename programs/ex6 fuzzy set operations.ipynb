{
 "cells": [
  {
   "cell_type": "markdown",
   "id": "c35ce074",
   "metadata": {},
   "source": [
    "##  Ex6 Fuzzy set operations"
   ]
  },
  {
   "cell_type": "code",
   "execution_count": null,
   "id": "f366ce01",
   "metadata": {},
   "outputs": [],
   "source": [
    "a= int(input('Enter the fuzzy set a' ))\n",
    "b= int(input('Enter the fuzzy set b'))\n",
    "c= a + b\n",
    "d= a*b\n",
    "As= c-d \n",
    "e= 1-b \n",
    "ad= a + e \n",
    "f= a-b \n",
    "bs= min (1, c)\n",
    "bd= max (0, f)\n",
    "g= c-1 \n",
    "bp= max (0,g)\n",
    "disp('The algebraic sum')\n",
    "disp(As)\n",
    "disp('The algebraic difference')\n",
    "disp(ad)\n",
    "disp('The algebraic product')\n",
    "disp(d)\n",
    "disp('The bounded sum')\n",
    "disp(bs)\n",
    "disp('The bounded difference')\n",
    "disp (bd)\n",
    "disp('The bounded product')\n",
    "disp(bp)\n"
   ]
  },
  {
   "cell_type": "code",
   "execution_count": null,
   "id": "db3b38cc",
   "metadata": {},
   "outputs": [],
   "source": []
  }
 ],
 "metadata": {
  "kernelspec": {
   "display_name": "Python 3",
   "language": "python",
   "name": "python3"
  },
  "language_info": {
   "codemirror_mode": {
    "name": "ipython",
    "version": 3
   },
   "file_extension": ".py",
   "mimetype": "text/x-python",
   "name": "python",
   "nbconvert_exporter": "python",
   "pygments_lexer": "ipython3",
   "version": "3.8.8"
  }
 },
 "nbformat": 4,
 "nbformat_minor": 5
}
